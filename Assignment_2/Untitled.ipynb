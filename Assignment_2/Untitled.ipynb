{
 "cells": [
  {
   "cell_type": "code",
   "execution_count": null,
   "metadata": {
    "collapsed": false
   },
   "outputs": [],
   "source": [
    "import json\n",
    "import pandas as pd\n",
    "import matplotlib.pyplot as plt\n",
    "\n",
    "tweets_data_path = 'tweets.json'\n",
    "\n",
    "tweets_data =[]\n",
    "counter=1\n",
    "tweets_file = open(tweets_data_path,'r')\n",
    "tweets=json.loads(tweets_file.read())\n",
    "\n",
    "for key in tweets:\n",
    "    tweets_data.append(tweets[key])\n",
    "    #print(key)\n",
    "\n",
    "keyword=input('Enter a keyword:')\n",
    "    \n",
    "df = pd.DataFrame()\n",
    "df['text'] =list(map(lambda tweet: tweet['text'], tweets_data))\n",
    "df['lang'] =list(map(lambda tweet: tweet['lang'], tweets_data))\n",
    "df['country'] =list(map(lambda tweet: tweet['place']['country'] if tweet['place'] != None else None, tweets_data))\n",
    "tweets_by_lang = df['lang'].value_counts()\n",
    "tweets_by_country = df['country'].value_counts()\n",
    "print('Analysis 1:')\n",
    "print('Top 5 Languages:')\n",
    "print(tweets_by_lang)\n",
    "print('Analysis 2:')\n",
    "print('Top 5 countries')\n",
    "print(tweets_by_country)\n",
    "\n",
    "fig, ax = plt.subplots()\n",
    "ax.tick_params(axis='x', labelsize=15)\n",
    "ax.tick_params(axis='y', labelsize=10)\n",
    "ax.set_xlabel('Languages', fontsize=15)\n",
    "ax.set_ylabel('Number of tweets' , fontsize=15)\n",
    "ax.set_title('Top 5 languages', fontsize=15, fontweight='bold')\n",
    "tweets_by_lang[:5].plot(ax=ax, kind='bar', color='red')\n",
    "\n",
    "plt.show()\n",
    "\n",
    "\n",
    "fig, ax = plt.subplots()\n",
    "ax.tick_params(axis='x', labelsize=15)\n",
    "ax.tick_params(axis='y', labelsize=10)\n",
    "ax.set_xlabel('Countries', fontsize=15)\n",
    "ax.set_ylabel('Number of tweets' , fontsize=15)\n",
    "ax.set_title('Top 5 countries', fontsize=15, fontweight='bold')\n",
    "tweets_by_country[:5].plot(ax=ax, kind='bar', color='blue')\n",
    "\n",
    "plt.show()\n"
   ]
  },
  {
   "cell_type": "code",
   "execution_count": null,
   "metadata": {
    "collapsed": true
   },
   "outputs": [],
   "source": []
  }
 ],
 "metadata": {
  "kernelspec": {
   "display_name": "Python [Root]",
   "language": "python",
   "name": "Python [Root]"
  },
  "language_info": {
   "codemirror_mode": {
    "name": "ipython",
    "version": 3
   },
   "file_extension": ".py",
   "mimetype": "text/x-python",
   "name": "python",
   "nbconvert_exporter": "python",
   "pygments_lexer": "ipython3",
   "version": "3.5.2"
  }
 },
 "nbformat": 4,
 "nbformat_minor": 0
}
