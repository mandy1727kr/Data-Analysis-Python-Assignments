{
 "cells": [
  {
   "cell_type": "code",
   "execution_count": 32,
   "metadata": {
    "collapsed": false,
    "scrolled": true
   },
   "outputs": [],
   "source": [
    "import requests\n",
    "from requests_oauthlib import OAuth1\n",
    "\n",
    "consumer_key = 'Hb5YoX8p6j3astVff7pGk4u0O'\n",
    "consumer_secret = 'JjZhgz9U8F0ANy2c4IhpJCQdeAssqvWX7eekeZwOqXBjEBbyRA'\n",
    "access_token = '290085858-gc0stGn9PRVbBsBTT2jw5tvum3BSXa8mcp8fAwh9'\n",
    "access_secret = '58oWLx4rDrENGhWspp5Wu5TfX7y2sMnseLNvgCiB4KFtw'\n",
    "oauth = OAuth1(consumer_key,  \n",
    "         client_secret=consumer_secret,  \n",
    "         resource_owner_key=access_token,  \n",
    "         resource_owner_secret=access_secret)  \n",
    "results = requests.get(url=\"https://api.twitter.com/1.1/search/tweets.json?q=%40manchester%20united&count=450\", auth=oauth)  \n",
    "raw_data=results.json() \n",
    "#print(raw_data)\n",
    "d={}\n",
    "\n",
    "for status in raw_data['statuses']:\n",
    "    d[status['id']]=status\n",
    "    \n",
    "import json\n",
    "with open('tweets.json', 'w') as outfile:\n",
    "    json.dump(d,outfile)"
   ]
  },
  {
   "cell_type": "code",
   "execution_count": 38,
   "metadata": {
    "collapsed": false
   },
   "outputs": [
    {
     "name": "stdout",
     "output_type": "stream",
     "text": [
      "Enter a keyword:ilshfiq\n",
      "No Results found\n",
      "No Results found\n",
      "No Results found\n"
     ]
    }
   ],
   "source": [
    "import json\n",
    "import pandas as pd\n",
    "import matplotlib.pyplot as plt\n",
    "\n",
    "\n",
    "tweets_data_path = 'tweets.json'\n",
    "\n",
    "tweets_data =[]\n",
    "counter=1\n",
    "tweets_file = open(tweets_data_path,'r')\n",
    "tweets=json.loads(tweets_file.read())\n",
    "\n",
    "for key in tweets:\n",
    "    tweets_data.append(tweets[key])\n",
    "    #print(key)\n",
    "\n",
    "keyword=input('Enter a keyword:')\n",
    "\n",
    "    \n",
    "import re\n",
    "\n",
    "def word_in_text(word, text):\n",
    "    word = word.lower()\n",
    "    text = text.lower()\n",
    "    match = re.search(word, text)\n",
    "    if match:\n",
    "        return True\n",
    "    return False\n",
    "\n",
    "#Languages of tweets and its count in which the keyword occured\n",
    "language={}\n",
    "for tweet in tweets_data:\n",
    "    if word_in_text(keyword,tweet['text']):\n",
    "        \n",
    "        if tweet['lang'] in language:\n",
    "            language[tweet['lang']]+=1\n",
    "        else:\n",
    "            language[tweet['lang']]=1\n",
    "    \n",
    "if not language:\n",
    "    print('No Results found')\n",
    "else:\n",
    "    \n",
    "    print('#Languages of tweets and its count in which the keyword occured')\n",
    "    print(language)\n",
    "\n",
    "\n",
    "    plt.bar(range(len(language)), language.values(), align='center')\n",
    "    plt.xticks(range(len(language)), language.keys())\n",
    "\n",
    "    plt.show()\n",
    " \n",
    "#Countries of tweets in which the keyword occured\n",
    "countries={}\n",
    "for tweet in tweets_data:\n",
    "    if tweet['place']!=None:\n",
    "        if tweet['place']['country'] in countries:\n",
    "            countries[tweet['place']['country']]+=1\n",
    "        else:\n",
    "            countries[tweet['place']['country']]=1\n",
    "    else:\n",
    "        None\n",
    "if not language:\n",
    "    print('No Results found')\n",
    "else:\n",
    "    print('#Countries of tweets in which the keyword occured')\n",
    "    print(countries)\n",
    "    plt.bar(range(len(countries)), countries.values(), align='center')\n",
    "    plt.xticks(range(len(countries)), countries.keys())\n",
    "\n",
    "    plt.show()\n",
    "\n",
    "#Top 3 tweeters based on highest number of followers\n",
    "users={}\n",
    "final_users={}\n",
    "for tweet in tweets_data:\n",
    "    if word_in_text(keyword,tweet['text']):\n",
    "        users[tweet['user']['name']]=tweet['user']['followers_count']\n",
    "if not users:\n",
    "    print('No Results found')\n",
    "else:\n",
    "    final_users=sorted(users.items(), key=lambda x: (-x[1], x[0]))[:3]\n",
    "    print('#Top 3 tweeters based on highest number of followers')\n",
    "    u=dict(final_users)\n",
    "    print(u)\n",
    "    plt.bar(range(len(u)), u.values(), align='center')\n",
    "    plt.xticks(range(len(u)), u.keys())\n",
    "\n",
    "    plt.show()\n",
    "\n",
    "\n"
   ]
  },
  {
   "cell_type": "code",
   "execution_count": null,
   "metadata": {
    "collapsed": true
   },
   "outputs": [],
   "source": []
  },
  {
   "cell_type": "code",
   "execution_count": null,
   "metadata": {
    "collapsed": true
   },
   "outputs": [],
   "source": []
  }
 ],
 "metadata": {
  "anaconda-cloud": {},
  "kernelspec": {
   "display_name": "Python [Root]",
   "language": "python",
   "name": "Python [Root]"
  },
  "language_info": {
   "codemirror_mode": {
    "name": "ipython",
    "version": 3
   },
   "file_extension": ".py",
   "mimetype": "text/x-python",
   "name": "python",
   "nbconvert_exporter": "python",
   "pygments_lexer": "ipython3",
   "version": "3.5.2"
  }
 },
 "nbformat": 4,
 "nbformat_minor": 0
}
