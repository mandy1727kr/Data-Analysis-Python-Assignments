{
 "cells": [
  {
   "cell_type": "markdown",
   "metadata": {},
   "source": [
    "# Number of JSON files containing 'User Not Found':"
   ]
  },
  {
   "cell_type": "code",
   "execution_count": 156,
   "metadata": {
    "collapsed": false
   },
   "outputs": [
    {
     "name": "stdout",
     "output_type": "stream",
     "text": [
      "Number of files containing 'User Not Found':\n",
      "877\n"
     ]
    }
   ],
   "source": [
    "import glob \n",
    "import os,json\n",
    "import pandas as pd  \n",
    "\n",
    "counter=0\n",
    "files=glob.glob('C:/Fall 2016/Data Analysis using Python/Assignment/Assignment_01/jsons/*.json')   \n",
    "for file in files:\n",
    "    with open(file) as f:\n",
    "        data=f.read()\n",
    "        json_data=json.loads(data)\n",
    "        if json_data.get('name'):\n",
    "            if \"User Not Found\" in json_data['name']:\n",
    "                counter+=1\n",
    "print(\"Number of files containing 'User Not Found':\")\n",
    "print(counter)"
   ]
  },
  {
   "cell_type": "markdown",
   "metadata": {},
   "source": [
    "# Create a dictionary, containing (user_id,present).Present is 0 if ‘user not found’ else 1:"
   ]
  },
  {
   "cell_type": "code",
   "execution_count": 6,
   "metadata": {
    "collapsed": false
   },
   "outputs": [
    {
     "name": "stdout",
     "output_type": "stream",
     "text": [
      "[('G7UrtVrf1BLjwU5', 0), ('WdJonOel1AFpUv5', 1), ('wWrTQi6E1BMjkR2', 0), ('AvbJrCrz1A5ikW5', 0), ('WjvsFtG91BM06K2', 0)]\n"
     ]
    }
   ],
   "source": [
    "import glob \n",
    "import os,json\n",
    "import random\n",
    "import pandas as pd  \n",
    "\n",
    "present=0\n",
    "counter=0\n",
    "dict={}\n",
    "files=glob.glob('C:/Fall 2016/Data Analysis using Python/Assignment/Assignment_01/jsons/*.json')   \n",
    "\n",
    "for file in files:\n",
    "    name= os.path.splitext(os.path.basename(file))[0]\n",
    "    \n",
    "    with open(file) as f:\n",
    "        counter+=1\n",
    "        data=f.read()\n",
    "        json_data=json.loads(data)\n",
    "        if json_data.get('name'):\n",
    "            if \"User Not Found\" in json_data['name']:\n",
    "                present=0\n",
    "                dict[name] = present\n",
    "        else:\n",
    "            present=1\n",
    "            dict[name] = present\n",
    "rand_items = random.sample(dict.items(), 5)\n",
    "print(rand_items)"
   ]
  },
  {
   "cell_type": "code",
   "execution_count": null,
   "metadata": {
    "collapsed": true
   },
   "outputs": [],
   "source": []
  }
 ],
 "metadata": {
  "anaconda-cloud": {},
  "kernelspec": {
   "display_name": "Python [Root]",
   "language": "python",
   "name": "Python [Root]"
  },
  "language_info": {
   "codemirror_mode": {
    "name": "ipython",
    "version": 3
   },
   "file_extension": ".py",
   "mimetype": "text/x-python",
   "name": "python",
   "nbconvert_exporter": "python",
   "pygments_lexer": "ipython3",
   "version": "3.5.2"
  }
 },
 "nbformat": 4,
 "nbformat_minor": 0
}
