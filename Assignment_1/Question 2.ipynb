{
 "cells": [
  {
   "cell_type": "markdown",
   "metadata": {},
   "source": [
    "# Total Word Count in File"
   ]
  },
  {
   "cell_type": "code",
   "execution_count": 38,
   "metadata": {
    "collapsed": false
   },
   "outputs": [
    {
     "name": "stdout",
     "output_type": "stream",
     "text": [
      "The total word count is: 309\n"
     ]
    }
   ],
   "source": [
    "from collections import Counter\n",
    "file=open(r'C:\\\\Fall 2016\\\\Data Analysis using Python\\\\DataAnalysisPython\\\\Lecture-03\\\\ques2.txt')\n",
    "words = [word for line in file for word in line.split()]\n",
    "print (\"The total word count is:\", len(words))\n",
    "c = Counter(words)"
   ]
  },
  {
   "cell_type": "markdown",
   "metadata": {},
   "source": [
    "# Average, Median and Mode of word length in file"
   ]
  },
  {
   "cell_type": "code",
   "execution_count": 36,
   "metadata": {
    "collapsed": false
   },
   "outputs": [
    {
     "name": "stdout",
     "output_type": "stream",
     "text": [
      "Average of word length : 5.624595469255663\n",
      "Median is: 5\n",
      "Mode is: 2\n"
     ]
    }
   ],
   "source": [
    "import statistics\n",
    "l=[]\n",
    "counter=0\n",
    "for word in words:\n",
    "    l.insert(counter,len(word))\n",
    "med=statistics.median(l)\n",
    "mod=statistics.mode(l)\n",
    "\n",
    "print (\"Median is:\", med)\n",
    "print (\"Mode is:\", mod)"
   ]
  }
 ],
 "metadata": {
  "kernelspec": {
   "display_name": "Python [Mitali]",
   "language": "python",
   "name": "Python [Mitali]"
  },
  "language_info": {
   "codemirror_mode": {
    "name": "ipython",
    "version": 3
   },
   "file_extension": ".py",
   "mimetype": "text/x-python",
   "name": "python",
   "nbconvert_exporter": "python",
   "pygments_lexer": "ipython3",
   "version": "3.5.2"
  }
 },
 "nbformat": 4,
 "nbformat_minor": 0
}
