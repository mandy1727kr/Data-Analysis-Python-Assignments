{
 "cells": [
  {
   "cell_type": "code",
   "execution_count": 29,
   "metadata": {
    "collapsed": false
   },
   "outputs": [],
   "source": [
    "#Monthly Frequency of videos Published\n",
    "import tkinter as tk\n",
    "from IPython.display import clear_output\n",
    "import pandas as pd\n",
    "import matplotlib.pyplot as plt\n",
    "country=pd.read_csv('data/RegionCode.csv')\n",
    "\n",
    "OPTIONS =country.set_index('RegionName')['RegionID'].to_dict()\n",
    "\n",
    "class App(object):\n",
    "    def __init__(self, master, **kwargs):\n",
    "        self.master = master\n",
    "        self.var = tk.StringVar()\n",
    "        self.var.set('Select Country')\n",
    "        self.option = tk.OptionMenu(master, self.var, *OPTIONS.keys())\n",
    "        self.option.pack()\n",
    "        def ok():\n",
    "            if self.var.get()=='Select Country':\n",
    "                try:\n",
    "                    self.label.destroy()\n",
    "                except (NameError, AttributeError):\n",
    "                    pass\n",
    "                self.label = tk.Label(master,text=\"Please select a Country..!\")\n",
    "                self.label.pack()\n",
    "            else:\n",
    "                try:\n",
    "                    self.label.destroy()\n",
    "                except (NameError, AttributeError):\n",
    "                    pass\n",
    "                print(self.var.get())\n",
    "                self.label = tk.Label(master,text=\"Please see the console\")\n",
    "                self.label.pack()\n",
    "                d=pd.read_csv('data/Data.csv')\n",
    "                result=pd.DataFrame()\n",
    "                #result=d.groupby(['CategoryId','Country']).count()\n",
    "                result=pd.read_csv('data/AllVideos.csv')\n",
    "                result['Published At']=pd.to_datetime(result['Published At']).dt.month\n",
    "                result=result[result['Country']==OPTIONS[self.var.get()]]\n",
    "                print(result)\n",
    "                result=pd.DataFrame({'VideoCount' : result.groupby( [ 'Published At','Country'] ).size()}).reset_index() \n",
    "                clear_output()\n",
    "                print(result)\n",
    "                result.to_csv('Analysis/analysis_4('+self.var.get()+').csv', sep=',', encoding='utf-8',index=True) \n",
    "                result.plot.area(x='Published At',y='VideoCount')\n",
    "                plt.title('Monthly Frequency of videos Published for'+self.var.get())\n",
    "                plt.show()\n",
    "                \n",
    "        self.button=tk.Button(master, text=\"OK\", command=ok)\n",
    "        self.button.pack()\n",
    "        \n",
    "root = tk.Tk()\n",
    "app = App(root)\n",
    "root.mainloop()\n",
    "\n"
   ]
  },
  {
   "cell_type": "code",
   "execution_count": null,
   "metadata": {
    "collapsed": true
   },
   "outputs": [],
   "source": []
  }
 ],
 "metadata": {
  "kernelspec": {
   "display_name": "Python [conda root]",
   "language": "python",
   "name": "conda-root-py"
  },
  "language_info": {
   "codemirror_mode": {
    "name": "ipython",
    "version": 3
   },
   "file_extension": ".py",
   "mimetype": "text/x-python",
   "name": "python",
   "nbconvert_exporter": "python",
   "pygments_lexer": "ipython3",
   "version": "3.5.2"
  }
 },
 "nbformat": 4,
 "nbformat_minor": 1
}
