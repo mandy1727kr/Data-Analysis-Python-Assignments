{
 "cells": [
  {
   "cell_type": "code",
   "execution_count": 51,
   "metadata": {
    "collapsed": false
   },
   "outputs": [
    {
     "data": {
      "text/html": [
       "<iframe id=\"igraph\" scrolling=\"no\" style=\"border:none;\" seamless=\"seamless\" src=\"https://plot.ly/~mitali555/10.embed\" height=\"525px\" width=\"100%\"></iframe>"
      ],
      "text/plain": [
       "<plotly.tools.PlotlyDisplay object>"
      ]
     },
     "execution_count": 51,
     "metadata": {},
     "output_type": "execute_result"
    }
   ],
   "source": [
    "#Number of most popular videos in a country\n",
    "import plotly.plotly as py\n",
    "import pandas as pd\n",
    "\n",
    "df = pd.read_csv('https://raw.githubusercontent.com/plotly/datasets/master/2014_world_gdp_with_codes.csv')\n",
    "df1=pd.read_csv('data/RegionCode.csv')\n",
    "allVideos=pd.read_csv('data/AllVideos.csv')\n",
    "allVideos['Published At']=pd.to_datetime(allVideos['Published At']).dt.year\n",
    "result=pd.DataFrame({'VideoCount' : allVideos.groupby( ['Published At','Country'] ).size()}).reset_index()\n",
    "df_new=pd.DataFrame()\n",
    "result['RegionID']=result['Country']\n",
    "result=pd.merge(result,df1,on='RegionID')\n",
    "result = result[result['Published At'] ==2016]\n",
    "result['COUNTRY']=result['RegionName']\n",
    "del result['RegionName']\n",
    "del result['RegionID']\n",
    "del result['Country']\n",
    "del result['Published At']\n",
    "del df['GDP (BILLIONS)']\n",
    "result=pd.merge(result,df,on='COUNTRY')\n",
    "result.to_csv('Analysis/analysis_3.csv', sep=',', encoding='utf-8',index=False) \n",
    "data = [ dict(\n",
    "        type = 'choropleth',\n",
    "        locations = result['CODE'],\n",
    "        z = result['VideoCount'],\n",
    "        text = result['COUNTRY'], \n",
    "        autocolorscale = True,\n",
    "        reversescale = False,\n",
    "        marker = dict(\n",
    "            line = dict (\n",
    "                color = 'rgb(180,180,180)',\n",
    "                width = 0.5\n",
    "            ) ),\n",
    "        colorbar = dict(\n",
    "            autotick = True,\n",
    "            title = 'Number of Videos'),\n",
    "      ) ]\n",
    "\n",
    "layout = dict(\n",
    "    title = 'Number of most popular videos in 2016',\n",
    "    geo = dict(\n",
    "        showframe = False,\n",
    "        showcoastlines = False,\n",
    "        projection = dict(\n",
    "            type = 'Mercator'\n",
    "        )\n",
    "    )\n",
    ")\n",
    "\n",
    "fig = dict( data=data, layout=layout )\n",
    "py.iplot( fig, validate=False, filename='d3-world-map' )"
   ]
  },
  {
   "cell_type": "code",
   "execution_count": null,
   "metadata": {
    "collapsed": true
   },
   "outputs": [],
   "source": []
  }
 ],
 "metadata": {
  "anaconda-cloud": {},
  "kernelspec": {
   "display_name": "Python [conda root]",
   "language": "python",
   "name": "conda-root-py"
  },
  "language_info": {
   "codemirror_mode": {
    "name": "ipython",
    "version": 3
   },
   "file_extension": ".py",
   "mimetype": "text/x-python",
   "name": "python",
   "nbconvert_exporter": "python",
   "pygments_lexer": "ipython3",
   "version": "3.5.2"
  }
 },
 "nbformat": 4,
 "nbformat_minor": 1
}
