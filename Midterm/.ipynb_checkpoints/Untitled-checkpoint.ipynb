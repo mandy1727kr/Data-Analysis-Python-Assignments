{
 "cells": [
  {
   "cell_type": "code",
   "execution_count": 5,
   "metadata": {
    "collapsed": false
   },
   "outputs": [
    {
     "name": "stdout",
     "output_type": "stream",
     "text": [
      "3679490\n",
      "2336654\n",
      "283296\n",
      "839957\n",
      "492620\n",
      "1648033\n",
      "5019169\n",
      "213334\n",
      "2593236\n",
      "1505259\n",
      "1212067\n",
      "1951065\n",
      "1987629\n",
      "2826011\n",
      "2587904\n",
      "2058811\n",
      "1700890\n",
      "2136806\n",
      "6784133\n",
      "5059335\n",
      "1637638\n",
      "1357553\n",
      "1566200\n",
      "3255525\n",
      "2725109\n",
      "2369867\n",
      "2550866\n",
      "3507127\n",
      "3768495\n",
      "1675909\n"
     ]
    }
   ],
   "source": [
    "import json\n",
    "import requests\n",
    "import pandas as pd\n",
    "import matplotlib.pyplot as plt\n",
    "import numpy as np\n",
    "from tabulate import tabulate\n",
    "import glob\n",
    "import csv\n",
    "\n",
    "#declare a set to hold all the user ids\n",
    "user_ids=set()\n",
    "files=glob.glob('C:/Fall 2016/Data Analysis using Python/Python-Assignments/Midterm/UserData/*.json')   \n",
    "for file in files:\n",
    "    with open(file) as f:\n",
    "        data=f.read()\n",
    "        user_data=json.loads(data)\n",
    "        for key in user_data:\n",
    "            #read all the keys in json and assign it to set \n",
    "            user_ids.add(user_data[key]['owner']['user_id'])\n",
    "            \n",
    "#convert the set to string\n",
    "users=str(user_ids)\n",
    "#make it a string of ids seperated by comma\n",
    "users = users.replace(\", \",\";\")\n",
    "users = users.replace(\"{\",\"\")\n",
    "users = users.replace(\"}\",\"\")\n",
    "users = users.replace(\"'\",\"\")\n",
    "results = requests.get(url=\"https://api.stackexchange.com/2.2/users/\"+users+\"?site=stackoverflow&key=Qbw)9y9ZFui61wxBzFU7mQ((\") \n",
    "raw_data=results.json() \n",
    "\n",
    "d={}\n",
    "for data in raw_data['items']:\n",
    "    d[data['user_id']]=data\n",
    "\n",
    "with open('C:/Fall 2016/Data Analysis using Python/Python-Assignments/Midterm/averageBadge.json', 'w') as outfile:\n",
    "    json.dump(d,outfile)\n",
    "    "
   ]
  },
  {
   "cell_type": "code",
   "execution_count": null,
   "metadata": {
    "collapsed": true
   },
   "outputs": [],
   "source": []
  }
 ],
 "metadata": {
  "kernelspec": {
   "display_name": "Python [Root]",
   "language": "python",
   "name": "Python [Root]"
  },
  "language_info": {
   "codemirror_mode": {
    "name": "ipython",
    "version": 3
   },
   "file_extension": ".py",
   "mimetype": "text/x-python",
   "name": "python",
   "nbconvert_exporter": "python",
   "pygments_lexer": "ipython3",
   "version": "3.5.2"
  }
 },
 "nbformat": 4,
 "nbformat_minor": 0
}
